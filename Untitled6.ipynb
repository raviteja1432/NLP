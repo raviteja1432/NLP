{
  "nbformat": 4,
  "nbformat_minor": 0,
  "metadata": {
    "colab": {
      "name": "Untitled6.ipynb",
      "provenance": [],
      "collapsed_sections": [],
      "authorship_tag": "ABX9TyNDkKwnbEZhJAKudWXnNhgs",
      "include_colab_link": true
    },
    "kernelspec": {
      "name": "python3",
      "display_name": "Python 3"
    },
    "language_info": {
      "name": "python"
    }
  },
  "cells": [
    {
      "cell_type": "markdown",
      "metadata": {
        "id": "view-in-github",
        "colab_type": "text"
      },
      "source": [
        "<a href=\"https://colab.research.google.com/github/raviteja1432/NLP/blob/main/Untitled6.ipynb\" target=\"_parent\"><img src=\"https://colab.research.google.com/assets/colab-badge.svg\" alt=\"Open In Colab\"/></a>"
      ]
    },
    {
      "cell_type": "code",
      "execution_count": null,
      "metadata": {
        "colab": {
          "base_uri": "https://localhost:8080/"
        },
        "id": "fd1t48N7AVM8",
        "outputId": "a62223d4-3655-48f0-9e11-3367ba373b20"
      },
      "outputs": [
        {
          "output_type": "stream",
          "name": "stdout",
          "text": [
            "TF-IDF Matrix Shape for DOC 1 & 2 is :  (2, 53)\n",
            "Cosine Similarity Matrix Between Documents 1 & 2 is : \n",
            "[[1.         0.26307297]\n",
            " [0.26307297 1.        ]]\n"
          ]
        }
      ],
      "source": [
        "\n",
        "Boc1 = ['Text Simplification is the task of reducing the complexity of the vocabulary and sentence  structure  of  text  while  retaining  its  original  meaning,  with  the  goal  of improving readability and understanding.',\n",
        "'Sentiment Analysis is the process of determining whether a piece of writing is positive,  negative  or  neutral.  A  sentiment  analysis  system  for  text  analysis combines natural language processing (NLP) and machine learning techniques to assign  weighted  sentiment  scores  to  the  entities,  topics,  themes  and  categories within a sentence or phrase.']\n",
        "from sklearn.feature_extraction.text import TfidfVectorizer\n",
        "from sklearn.metrics.pairwise import cosine_similarity\n",
        "\n",
        "# Initialize an instance of tf-idf Vectorizer\n",
        "tfidf_vectorizer = TfidfVectorizer()\n",
        "\n",
        "# Generate the tf-idf vectors for the Documents 1 & 2, print the shape of the matrix and their cosine similarities\n",
        "tfidf_matrix12 = tfidf_vectorizer.fit_transform(Boc1)\n",
        "print(\"TF-IDF Matrix Shape for DOC 1 & 2 is : \", tfidf_matrix12.shape)\n",
        "cosine_sim12 = cosine_similarity(tfidf_matrix12, tfidf_matrix12)\n",
        "print(\"Cosine Similarity Matrix Between Documents 1 & 2 is : \")\n",
        "print(cosine_sim12)"
      ]
    }
  ]
}